{
  "nbformat": 4,
  "nbformat_minor": 0,
  "metadata": {
    "colab": {
      "name": "teste_uso_chrmeDriver.ipynb",
      "provenance": [],
      "authorship_tag": "ABX9TyPtGSEqI9uXWcNCXu4pW/zK",
      "include_colab_link": true
    },
    "kernelspec": {
      "name": "python3",
      "display_name": "Python 3"
    }
  },
  "cells": [
    {
      "cell_type": "markdown",
      "metadata": {
        "id": "view-in-github",
        "colab_type": "text"
      },
      "source": [
        "<a href=\"https://colab.research.google.com/github/israelruiz2005/python/blob/main/teste_uso_chrmeDriver.ipynb\" target=\"_parent\"><img src=\"https://colab.research.google.com/assets/colab-badge.svg\" alt=\"Open In Colab\"/></a>"
      ]
    },
    {
      "cell_type": "code",
      "metadata": {
        "colab": {
          "base_uri": "https://localhost:8080/"
        },
        "id": "YheATCFITHZf",
        "outputId": "90ce1b10-7b94-4524-a287-c0a452f826d3"
      },
      "source": [
        "# Instalando o chromeDriver\r\n",
        "!apt install chromium-chromedriver"
      ],
      "execution_count": 86,
      "outputs": [
        {
          "output_type": "stream",
          "text": [
            "Reading package lists... Done\n",
            "Building dependency tree       \n",
            "Reading state information... Done\n",
            "chromium-chromedriver is already the newest version (87.0.4280.66-0ubuntu0.18.04.1).\n",
            "0 upgraded, 0 newly installed, 0 to remove and 14 not upgraded.\n"
          ],
          "name": "stdout"
        }
      ]
    },
    {
      "cell_type": "code",
      "metadata": {
        "colab": {
          "base_uri": "https://localhost:8080/"
        },
        "id": "B6WDN3OSTMMc",
        "outputId": "0b39f777-79aa-487a-9347-f9aee2582e4f"
      },
      "source": [
        "# copiando para o local\r\n",
        "!cp /usr/lib/chromium-browser/chromedriver /usr/bin"
      ],
      "execution_count": 87,
      "outputs": [
        {
          "output_type": "stream",
          "text": [
            "cp: '/usr/lib/chromium-browser/chromedriver' and '/usr/bin/chromedriver' are the same file\n"
          ],
          "name": "stdout"
        }
      ]
    },
    {
      "cell_type": "code",
      "metadata": {
        "colab": {
          "base_uri": "https://localhost:8080/"
        },
        "id": "moYz40qdTQH0",
        "outputId": "d4eb3108-8ea3-464f-f90e-fc8d746fbc80"
      },
      "source": [
        "#Instalando o selenium\r\n",
        "!pip install selenium *\r\n",
        "!pip install parsel"
      ],
      "execution_count": 88,
      "outputs": [
        {
          "output_type": "stream",
          "text": [
            "Requirement already satisfied: selenium in /usr/local/lib/python3.6/dist-packages (3.141.0)\n",
            "Requirement already satisfied: sample_data in /usr/local/lib/python3.6/dist-packages (0.1.0)\n",
            "Requirement already satisfied: urllib3 in /usr/local/lib/python3.6/dist-packages (from selenium) (1.24.3)\n",
            "Requirement already satisfied: pandas in /usr/local/lib/python3.6/dist-packages (from sample_data) (1.1.5)\n",
            "Requirement already satisfied: pytz>=2017.2 in /usr/local/lib/python3.6/dist-packages (from pandas->sample_data) (2018.9)\n",
            "Requirement already satisfied: python-dateutil>=2.7.3 in /usr/local/lib/python3.6/dist-packages (from pandas->sample_data) (2.8.1)\n",
            "Requirement already satisfied: numpy>=1.15.4 in /usr/local/lib/python3.6/dist-packages (from pandas->sample_data) (1.19.4)\n",
            "Requirement already satisfied: six>=1.5 in /usr/local/lib/python3.6/dist-packages (from python-dateutil>=2.7.3->pandas->sample_data) (1.15.0)\n",
            "Requirement already satisfied: parsel in /usr/local/lib/python3.6/dist-packages (1.6.0)\n",
            "Requirement already satisfied: cssselect>=0.9 in /usr/local/lib/python3.6/dist-packages (from parsel) (1.1.0)\n",
            "Requirement already satisfied: lxml in /usr/local/lib/python3.6/dist-packages (from parsel) (4.2.6)\n",
            "Requirement already satisfied: w3lib>=1.19.0 in /usr/local/lib/python3.6/dist-packages (from parsel) (1.22.0)\n",
            "Requirement already satisfied: six>=1.6.0 in /usr/local/lib/python3.6/dist-packages (from parsel) (1.15.0)\n"
          ],
          "name": "stdout"
        }
      ]
    },
    {
      "cell_type": "code",
      "metadata": {
        "id": "rubtzcYFTtIC"
      },
      "source": [
        "# importar webdriver\r\n",
        "from selenium import webdriver\r\n",
        "from selenium.webdriver.common.keys import Keys\r\n",
        "from time import sleep\r\n",
        "from parsel import Selector\r\n",
        "import csv\r\n"
      ],
      "execution_count": 89,
      "outputs": []
    },
    {
      "cell_type": "code",
      "metadata": {
        "id": "enWxg2DPSVsc"
      },
      "source": [
        "# configurações\r\n",
        "options = webdriver.ChromeOptions()\r\n",
        "options.add_argument('start-maximized')\r\n",
        "options.add_argument('-headless')\r\n",
        "options.add_argument('-no-sandbox')\r\n",
        "options.add_argument('-disable-dev-shm-usage')\r\n"
      ],
      "execution_count": 90,
      "outputs": []
    },
    {
      "cell_type": "code",
      "metadata": {
        "id": "brnek4XGSntP"
      },
      "source": [
        "# execução\r\n",
        "driver = webdriver.Chrome('chromedriver',options=options)\r\n"
      ],
      "execution_count": 91,
      "outputs": []
    },
    {
      "cell_type": "code",
      "metadata": {
        "colab": {
          "base_uri": "https://localhost:8080/"
        },
        "id": "c2bj0NvYqGFf",
        "outputId": "c9d4c2f8-eb05-4685-986f-b5fe295ed1cc"
      },
      "source": [
        "# arquivo csv\r\n",
        "writer = csv.writer(open('output.csv', 'w', encoding='utf-8'))\r\n",
        "writer.writerow(['Nome', 'Headline', 'URL'])\r\n"
      ],
      "execution_count": 92,
      "outputs": [
        {
          "output_type": "execute_result",
          "data": {
            "text/plain": [
              "19"
            ]
          },
          "metadata": {
            "tags": []
          },
          "execution_count": 92
        }
      ]
    },
    {
      "cell_type": "code",
      "metadata": {
        "id": "T2jepx-NquTG"
      },
      "source": [
        "# acessar LinkedIn\r\n",
        "driver.get('https://www.linkedin.com/')\r\n",
        "sleep(1)\r\n",
        "\r\n",
        "# clicar no botão de login\r\n",
        "# driver.find_element_by_css_selector('a.nav__button-secondary').click()\r\n",
        "driver.find_element_by_xpath('//a[text()=\"Sign in\"]').click()\r\n",
        "sleep(3)\r\n",
        "\r\n",
        "# preencher usuario\r\n",
        "# usuario_input = driver.find_element_by_css_selector('input#username')\r\n",
        "usuario_input = driver.find_element_by_name('session_key')\r\n",
        "usuario_input.send_keys('seu usuario link')\r\n",
        "\r\n",
        "# preencher senha\r\n",
        "senha_input = driver.find_element_by_name('session_password')\r\n",
        "senha_input.send_keys('sua senha')\r\n",
        "\r\n",
        "# clicar para logar\r\n",
        "# driver.find_element_by_css_selector(\"button.btn__primary--large\").click()\r\n",
        "# driver.find_element_by_xpath('//button[text()=\"Sign in\"]').click()\r\n",
        "senha_input.send_keys(Keys.RETURN)\r\n",
        "sleep(3)\r\n",
        "\r\n",
        "# GOOGLE\r\n",
        "driver.get('https://google.com')\r\n",
        "sleep(1)\r\n",
        "\r\n",
        "# selecionar campo de busca\r\n",
        "# campo_busca = driver.find_element_by_xpath('//input[@name=\"q\"]')\r\n",
        "busca_input = driver.find_element_by_name('q')\r\n",
        "\r\n",
        "# fazer busca no google\r\n",
        "busca_input.send_keys('site:linkedin.com/in/ AND \"data scientist\" and \"São José dos Campos\"')\r\n",
        "busca_input.send_keys(Keys.RETURN)\r\n",
        "sleep(2)\r\n",
        "\r\n",
        "# extrair lista de perfis\r\n",
        "lista_perfil = driver.find_elements_by_xpath('//div[@class=\"r\"]/a')\r\n",
        "lista_perfil = [perfil.get_attribute('href') for perfil in lista_perfil]\r\n",
        "\r\n",
        "# extrair informacoes individuais\r\n",
        "for perfil in lista_perfil:\r\n",
        "    driver.get(perfil)\r\n",
        "    sleep(4)\r\n",
        "\r\n",
        "    response = Selector(text=driver.page_source)\r\n",
        "    nome = response.xpath('//title/text()').extract_first().split(\" | \")[0]\r\n",
        "    headline = response.xpath('//h2/text()')[1].extract().strip()\r\n",
        "    url_perfil = driver.current_url\r\n",
        "\r\n",
        "    # escrever no arquivo csv\r\n",
        "    writer.writerow([nome, headline, url_perfil])\r\n",
        "\r\n",
        "# sair do driver\r\n",
        "driver.quit()\r\n"
      ],
      "execution_count": 93,
      "outputs": []
    }
  ]
}