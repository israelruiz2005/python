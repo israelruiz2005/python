{
  "nbformat": 4,
  "nbformat_minor": 0,
  "metadata": {
    "colab": {
      "name": "Desafios Finais Python - Cognizant Data Cloud Engineer #2.ipynb",
      "provenance": [],
      "authorship_tag": "ABX9TyOvpf+KOb3xnJvCt+wPpknb",
      "include_colab_link": true
    },
    "kernelspec": {
      "name": "python3",
      "display_name": "Python 3"
    },
    "language_info": {
      "name": "python"
    }
  },
  "cells": [
    {
      "cell_type": "markdown",
      "metadata": {
        "id": "view-in-github",
        "colab_type": "text"
      },
      "source": [
        "<a href=\"https://colab.research.google.com/github/israelruiz2005/python/blob/main/Desafios_Finais_Python_Cognizant_Data_Cloud_Engineer_2.ipynb\" target=\"_parent\"><img src=\"https://colab.research.google.com/assets/colab-badge.svg\" alt=\"Open In Colab\"/></a>"
      ]
    },
    {
      "cell_type": "markdown",
      "source": [
        "## Numero é primo\n",
        "\n",
        "Na matemática, um Número Primo é aquele que pode ser dividido somente por 1 (um) e por ele mesmo. Por exemplo, o número 7 é primo, pois pode ser dividido apenas pelo número 1 e pelo número 7.\n",
        "\n",
        "###Entrada\n",
        "A entrada contém vários casos de teste. A primeira linha da entrada contém um inteiro N (1 ≤ N ≤ 100), indicando o número de casos de teste da entrada. Cada uma das N linhas seguintes contém um valor inteiro X (1 < X ≤ 107), que pode ser ou não, um número primo.\n",
        "\n",
        "###Saída\n",
        "Para cada caso de teste de entrada, imprima a mensagem “X eh primo” ou “X nao eh primo”, de acordo com a especificação fornecida.\n",
        "\n",
        " \n",
        "| Exemplo de Entrada \t| Exemplo de Saída \t|\n",
        "|---\t|---\t|\n",
        "| 3<br>8<br>51<br>7 \t| 8 nao eh primo<br>51 nao eh primo<br>7 eh primo \t|"
      ],
      "metadata": {
        "id": "z9zDkqWAsRNB"
      }
    },
    {
      "cell_type": "code",
      "execution_count": 2,
      "metadata": {
        "colab": {
          "base_uri": "https://localhost:8080/"
        },
        "id": "EoqBzdEQrVld",
        "outputId": "ba30b7cd-6014-4389-8518-8a8ba982f75c"
      },
      "outputs": [
        {
          "output_type": "stream",
          "name": "stdout",
          "text": [
            "3\n",
            "8\n",
            "8  nao eh primo\n",
            "51\n",
            "51  nao eh primo\n",
            "7\n",
            "7  eh primo\n"
          ]
        }
      ],
      "source": [
        "#TODO: Complete os espaços em branco com uma solução possível\n",
        "n = int(input())\n",
        "for i in range(n):\n",
        "    num = int(input())\n",
        "    sum = 0\n",
        "\n",
        "    for j in range(1, (num+1)):\n",
        "        if num%j == 0   :\n",
        "            sum += 1       \n",
        "   \n",
        "    if sum != (2):\n",
        "        print(num,\" nao eh primo\"    )\n",
        "\n",
        "    else:\n",
        "        print(num,\" eh primo\"    )"
      ]
    },
    {
      "cell_type": "markdown",
      "source": [
        "## Desafio Preenchimento do Vetor I\n",
        "Você recebeu o desafio de ler um valor e criar um programa que coloque o valor lido na primeira posição de um vetor N[10]. Em cada posição subsequente, coloque o dobro do valor da posição anterior. Por exemplo, se o valor lido for 1, os valores do vetor devem ser 1,2,4,8 e assim sucessivamente. Mostre o vetor em seguida.\n",
        "\n",
        "###Entrada\n",
        "A entrada contém um valor inteiro (V<=50).\n",
        "\n",
        "###Saída\n",
        "Para cada posição do vetor, escreva \"N[i] = X\", onde i é a posição do vetor e X é o valor armazenado na posição i. O primeiro número do vetor N (N[0]) irá receber o valor de V.\n",
        "\n",
        " \n",
        "| Exemplo de Entrada \t| Exemplo de Saída \t|\n",
        "|---\t|---\t|\n",
        "| 1 \t| N[0] = 1<br>N[1] = 2<br>N[2] = 4<br>... \t|"
      ],
      "metadata": {
        "id": "ISjPqqGHusp8"
      }
    },
    {
      "cell_type": "code",
      "source": [
        "x = int(input())\n",
        "n= list()\n",
        "\n",
        "#TODO: Complete os espaços em branco com uma solução possível para o problema.\n",
        "for i in range (10):\n",
        "    n.append(x)\n",
        "    x= x*2   \n",
        "    print(\"N[{}] = \".format(i), n[i])"
      ],
      "metadata": {
        "colab": {
          "base_uri": "https://localhost:8080/"
        },
        "id": "w4Hv7x06vTwC",
        "outputId": "831a0dc5-6600-48d5-91dd-1f464382a423"
      },
      "execution_count": 7,
      "outputs": [
        {
          "output_type": "stream",
          "name": "stdout",
          "text": [
            "2\n",
            "N[0] =  2\n",
            "N[1] =  4\n",
            "N[2] =  8\n",
            "N[3] =  16\n",
            "N[4] =  32\n",
            "N[5] =  64\n",
            "N[6] =  128\n",
            "N[7] =  256\n",
            "N[8] =  512\n",
            "N[9] =  1024\n"
          ]
        }
      ]
    },
    {
      "cell_type": "markdown",
      "source": [
        "## outra solução possivel"
      ],
      "metadata": {
        "id": "tbNKVVdHxLls"
      }
    },
    {
      "cell_type": "code",
      "source": [
        "N = [0,0,0,0,0,0,0,0,0,0]\n",
        "x = int(input())\n",
        "\n",
        "for i in range(len(N)):\n",
        "  N[i] = x\n",
        "  x = x * 2\n",
        "  print('N[{}] = {}'.format(i, N[i]))"
      ],
      "metadata": {
        "colab": {
          "base_uri": "https://localhost:8080/"
        },
        "id": "fy1jgZJTv8s5",
        "outputId": "bb9c84b9-e571-4ee8-cd8f-28068800d477"
      },
      "execution_count": 8,
      "outputs": [
        {
          "output_type": "stream",
          "name": "stdout",
          "text": [
            "2\n",
            "N[0] = 2\n",
            "N[1] = 4\n",
            "N[2] = 8\n",
            "N[3] = 16\n",
            "N[4] = 32\n",
            "N[5] = 64\n",
            "N[6] = 128\n",
            "N[7] = 256\n",
            "N[8] = 512\n",
            "N[9] = 1024\n"
          ]
        }
      ]
    },
    {
      "cell_type": "markdown",
      "source": [
        "##Desafio encaixa ou não encaixa\n",
        "\n",
        "Paulinho tem em suas mãos um novo problema. Agora a sua professora lhe pediu que construísse um programa para verificar, à partir de dois valores muito grandes A e B, se B corresponde aos últimos dígitos de A.\n",
        "\n",
        "###Entrada\n",
        "A entrada consiste de vários casos de teste. A primeira linha de entrada contém um inteiro N que indica a quantidade de casos de teste. Cada caso de teste consiste de dois valores A e B maiores que zero, cada um deles podendo ter até 1000 dígitos.\n",
        "\n",
        "###Saída\n",
        "Para cada caso de entrada imprima uma mensagem indicando se o segundo valor encaixa no primeiro valor, confome exemplo abaixo.\n",
        "\n",
        "| Exemplo de Entrada \t| Exemplo de Saída \t|\n",
        "|---\t|---\t|\n",
        "| 4<br>56234523485723854755454545478690 78690<br> 5434554 543<br>1243 1243\t<br>54 64545454545454545454545454545454554<br>|encaixa<br>nao encaixa<br>encaixa<br>nao encaixa<br>  \t| \n",
        "\n",
        "\n",
        "\n",
        "\n",
        "\n"
      ],
      "metadata": {
        "id": "Rtfn_m7YxP5A"
      }
    },
    {
      "cell_type": "code",
      "source": [
        "n = int(input())\n",
        "for i in range(n):\n",
        "    x, y = input().split()\n",
        "    teste = 0\n",
        "    cont = 0\n",
        "    if len(x) < len(y):\n",
        "        print(\"nao encaixa\")\n",
        " \n",
        "    else:\n",
        "        for j in range( len(y)   ):\n",
        "            teste -= 1\n",
        "            if x[teste] == y[teste]:\n",
        "                cont += 1\n",
        " \n",
        "        if  cont  == len(y)  :\n",
        "            print(\"encaixa\")\n",
        " \n",
        "        else:\n",
        "            print(\"nao encaixa\")"
      ],
      "metadata": {
        "colab": {
          "base_uri": "https://localhost:8080/"
        },
        "id": "mys_0C3h_sBA",
        "outputId": "3405f219-26b9-4c86-fa03-4620a2c4f1c2"
      },
      "execution_count": 38,
      "outputs": [
        {
          "output_type": "stream",
          "name": "stdout",
          "text": [
            "4\n",
            "56234523485723854755454545478690 78690\n",
            "encaixa\n",
            "5434554 543\n",
            "nao encaixa\n",
            "1243 1243\n",
            "encaixa\n",
            "54 64545454545454545454545454545454554\n",
            "nao encaixa\n"
          ]
        }
      ]
    }
  ]
}