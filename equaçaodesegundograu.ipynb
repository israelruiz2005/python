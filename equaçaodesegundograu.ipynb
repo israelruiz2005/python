{
  "nbformat": 4,
  "nbformat_minor": 0,
  "metadata": {
    "colab": {
      "name": "equaçaodesegundograu.ipynb",
      "provenance": [],
      "authorship_tag": "ABX9TyMN6bJwAdf1R2CA2JPOThP+",
      "include_colab_link": true
    },
    "kernelspec": {
      "name": "python3",
      "display_name": "Python 3"
    },
    "language_info": {
      "name": "python"
    }
  },
  "cells": [
    {
      "cell_type": "markdown",
      "metadata": {
        "id": "view-in-github",
        "colab_type": "text"
      },
      "source": [
        "<a href=\"https://colab.research.google.com/github/israelruiz2005/python/blob/main/equa%C3%A7aodesegundograu.ipynb\" target=\"_parent\"><img src=\"https://colab.research.google.com/assets/colab-badge.svg\" alt=\"Open In Colab\"/></a>"
      ]
    },
    {
      "cell_type": "code",
      "execution_count": 2,
      "metadata": {
        "colab": {
          "base_uri": "https://localhost:8080/"
        },
        "id": "9pCf6pn6VjGA",
        "outputId": "b9d1b0b0-6416-4e9c-f6ed-74850b43c3dc"
      },
      "outputs": [
        {
          "name": "stdout",
          "output_type": "stream",
          "text": [
            "Calculando as raízes de uma equação de 2º grau\n",
            "\n",
            "\n",
            "Valor de x1: (-0.24999999999999994+0.82915619758885j)\n",
            "Valor de x2: (-0.25000000000000006-0.82915619758885j)\n",
            "Deseja sair? Digite q ou Enter para novo cálculo:q\n"
          ]
        }
      ],
      "source": [
        "# Calcular as Raízes de uma Equação do 2º Grau\n",
        "\n",
        "def raizes(a, b, c):\n",
        "    D = (b**2 - 4*a*c)\n",
        "    x1 = (-b + D**(1/2)) / (2*a)\n",
        "    x2 = (-b - D**(1/2)) / (2*a)\n",
        "\n",
        "    print('\\nValor de x1: {0}'.format(x1))\n",
        "    print('Valor de x2: {0}'.format(x2))\n",
        "\n",
        "if __name__ == '__main__':\n",
        "    while True:\n",
        "        print('Calculando as raízes de uma equação de 2º grau\\n')\n",
        "        a = float(input('Entre com o valor de a: '))\n",
        "        b = float(input('Entre com o valor de b: '))\n",
        "        c = float(input('Entre com o valor de c: '))\n",
        "        raizes(a,b,c)\n",
        "\n",
        "        continua = input('Deseja sair? Digite q ou Enter para novo cálculo:')\n",
        "        if (continua == 'q'):\n",
        "            break"
      ]
    }
  ]
}